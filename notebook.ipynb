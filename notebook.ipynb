```python
import pandas as pd
import matplotlib.pyplot as plt
import pingouin
from scipy.stats import mannwhitneyu

# load data
men = pd.read_csv("men_results.csv")
women = pd.read_csv("women_results.csv")

# filter to FIFA World Cup matches since 2002-01-01
men["date"] = pd.to_datetime(men["date"])
men_subset = men[(men["date"] > "2002-01-01") & (men["tournament"].isin(["FIFA World Cup"]))].copy()

women["date"] = pd.to_datetime(women["date"])
women_subset = women[(women["date"] > "2002-01-01") & (women["tournament"].isin(["FIFA World Cup"]))].copy()

# compute goals and add group labels
men_subset["group"] = "men"
women_subset["group"] = "women"
men_subset["goals_scored"] = men_subset["home_score"] + men_subset["away_score"]
women_subset["goals_scored"] = women_subset["home_score"] + women_subset["away_score"]

# quick histogram (optional)
men_subset["goals_scored"].hist()
plt.show()
plt.clf()

# combine and reshape for one approach
both = pd.concat([women_subset, men_subset], axis=0, ignore_index=True)
both_subset = both[["goals_scored", "group"]]
both_subset_wide = both_subset.pivot(columns="group", values="goals_scored")

# Mann-Whitney U using pingouin (wide pivoted inputs)
results_pg = pingouin.mwu(x=both_subset_wide["women"],
                          y=both_subset_wide["men"],
                          alternative="greater")
print(results_pg)

# Mann-Whitney U using scipy (direct lists)
results_scipy = mannwhitneyu(x=women_subset["goals_scored"],
                             y=men_subset["goals_scored"],
                             alternative="greater")
print(results_scipy)

# extract p-value and decision (note: original notebook used 0.01 threshold)
p_val = results_pg["p-val"].values[0]
if p_val <= 0.01:
    result = "reject"
else:
    result = "fail to reject"

result_dict = {"p_val": p_val, "result": result}
print(result_dict)
```
